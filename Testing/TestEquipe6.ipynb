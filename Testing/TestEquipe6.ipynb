{
 "cells": [
  {
   "cell_type": "code",
   "execution_count": 92,
   "metadata": {},
   "outputs": [],
   "source": [
    "#Julia 0.7\n",
    "using CSV, DataFrames"
   ]
  },
  {
   "cell_type": "markdown",
   "metadata": {},
   "source": [
    "# Chargement des donnees de test (equipe6)"
   ]
  },
  {
   "cell_type": "code",
   "execution_count": 93,
   "metadata": {},
   "outputs": [
    {
     "data": {
      "text/html": [
       "<table class=\"data-frame\"><thead><tr><th></th><th>ID</th><th>NA_Sales</th><th>Global_Sales</th></tr><tr><th></th><th>Int64⍰</th><th>Float64⍰</th><th>Float64⍰</th></tr></thead><tbody><p>6 rows × 3 columns</p><tr><th>1</th><td>1</td><td>0.101432</td><td>0.172605</td></tr><tr><th>2</th><td>2</td><td>0.000439844</td><td>0.0432509</td></tr><tr><th>3</th><td>3</td><td>0.0308291</td><td>0.0412706</td></tr><tr><th>4</th><td>4</td><td>0.52833</td><td>1.08082</td></tr><tr><th>5</th><td>5</td><td>0.0206288</td><td>0.131074</td></tr><tr><th>6</th><td>6</td><td>0.0890602</td><td>0.331157</td></tr></tbody></table>"
      ],
      "text/latex": [
       "\\begin{tabular}{r|ccc}\n",
       "\t& ID & NA\\_Sales & Global\\_Sales\\\\\n",
       "\t\\hline\n",
       "\t1 & 1 & 0.101432 & 0.172605 \\\\\n",
       "\t2 & 2 & 0.000439844 & 0.0432509 \\\\\n",
       "\t3 & 3 & 0.0308291 & 0.0412706 \\\\\n",
       "\t4 & 4 & 0.52833 & 1.08082 \\\\\n",
       "\t5 & 5 & 0.0206288 & 0.131074 \\\\\n",
       "\t6 & 6 & 0.0890602 & 0.331157 \\\\\n",
       "\\end{tabular}\n"
      ],
      "text/plain": [
       "6×3 DataFrame\n",
       "│ Row │ ID     │ NA_Sales    │ Global_Sales │\n",
       "│     │ \u001b[90mInt64⍰\u001b[39m │ \u001b[90mFloat64⍰\u001b[39m    │ \u001b[90mFloat64⍰\u001b[39m     │\n",
       "├─────┼────────┼─────────────┼──────────────┤\n",
       "│ 1   │ 1      │ 0.101432    │ 0.172605     │\n",
       "│ 2   │ 2      │ 0.000439844 │ 0.0432509    │\n",
       "│ 3   │ 3      │ 0.0308291   │ 0.0412706    │\n",
       "│ 4   │ 4      │ 0.52833     │ 1.08082      │\n",
       "│ 5   │ 5      │ 0.0206288   │ 0.131074     │\n",
       "│ 6   │ 6      │ 0.0890602   │ 0.331157     │"
      ]
     },
     "execution_count": 93,
     "metadata": {},
     "output_type": "execute_result"
    }
   ],
   "source": [
    "testE6 = CSV.read(\"TestEquipe6.csv\")\n",
    "head(testE6)"
   ]
  },
  {
   "cell_type": "markdown",
   "metadata": {},
   "source": [
    "# Chargement des donnees obtenues"
   ]
  },
  {
   "cell_type": "code",
   "execution_count": 94,
   "metadata": {},
   "outputs": [
    {
     "data": {
      "text/html": [
       "<table class=\"data-frame\"><thead><tr><th></th><th>ID</th><th>NA_Sales</th><th>Global_Sales</th></tr><tr><th></th><th>Int64⍰</th><th>Float64⍰</th><th>Float64⍰</th></tr></thead><tbody><p>6 rows × 3 columns</p><tr><th>1</th><td>14095</td><td>0.138268</td><td>0.182828</td></tr><tr><th>2</th><td>14096</td><td>0.0845363</td><td>0.183955</td></tr><tr><th>3</th><td>14097</td><td>0.624371</td><td>1.1746</td></tr><tr><th>4</th><td>14098</td><td>0.203803</td><td>0.247455</td></tr><tr><th>5</th><td>14099</td><td>0.385835</td><td>0.563133</td></tr><tr><th>6</th><td>14100</td><td>0.0481082</td><td>0.0630327</td></tr></tbody></table>"
      ],
      "text/latex": [
       "\\begin{tabular}{r|ccc}\n",
       "\t& ID & NA\\_Sales & Global\\_Sales\\\\\n",
       "\t\\hline\n",
       "\t1 & 14095 & 0.138268 & 0.182828 \\\\\n",
       "\t2 & 14096 & 0.0845363 & 0.183955 \\\\\n",
       "\t3 & 14097 & 0.624371 & 1.1746 \\\\\n",
       "\t4 & 14098 & 0.203803 & 0.247455 \\\\\n",
       "\t5 & 14099 & 0.385835 & 0.563133 \\\\\n",
       "\t6 & 14100 & 0.0481082 & 0.0630327 \\\\\n",
       "\\end{tabular}\n"
      ],
      "text/plain": [
       "6×3 DataFrame\n",
       "│ Row │ ID     │ NA_Sales  │ Global_Sales │\n",
       "│     │ \u001b[90mInt64⍰\u001b[39m │ \u001b[90mFloat64⍰\u001b[39m  │ \u001b[90mFloat64⍰\u001b[39m     │\n",
       "├─────┼────────┼───────────┼──────────────┤\n",
       "│ 1   │ 14095  │ 0.138268  │ 0.182828     │\n",
       "│ 2   │ 14096  │ 0.0845363 │ 0.183955     │\n",
       "│ 3   │ 14097  │ 0.624371  │ 1.1746       │\n",
       "│ 4   │ 14098  │ 0.203803  │ 0.247455     │\n",
       "│ 5   │ 14099  │ 0.385835  │ 0.563133     │\n",
       "│ 6   │ 14100  │ 0.0481082 │ 0.0630327    │"
      ]
     },
     "execution_count": 94,
     "metadata": {},
     "output_type": "execute_result"
    }
   ],
   "source": [
    "benchmarkPrediction = CSV.read(\"prediction_JP_Other_Platform_Year_Rating_Critic_User.csv\")\n",
    "head(benchmarkPrediction)"
   ]
  },
  {
   "cell_type": "markdown",
   "metadata": {},
   "source": [
    "# Calculer le RMSE pour les ventes en Amerique du Nord"
   ]
  },
  {
   "cell_type": "code",
   "execution_count": 95,
   "metadata": {},
   "outputs": [
    {
     "data": {
      "text/plain": [
       "0.8330286512186054"
      ]
     },
     "execution_count": 95,
     "metadata": {},
     "output_type": "execute_result"
    }
   ],
   "source": [
    "N = 2137\n",
    "NABenchmark = benchmarkPrediction[:NA_Sales]\n",
    "NATest = testE6[:NA_Sales]\n",
    "somme = 0\n",
    "for i in 1:N\n",
    "    somme = somme + (NABenchmark[i] - NATest[i])^2\n",
    "end\n",
    "RMSE_NA = somme / N"
   ]
  },
  {
   "cell_type": "markdown",
   "metadata": {},
   "source": [
    "# Calculer le RMSE pour les ventes globales"
   ]
  },
  {
   "cell_type": "code",
   "execution_count": 96,
   "metadata": {},
   "outputs": [
    {
     "data": {
      "text/plain": [
       "4.179293033026041"
      ]
     },
     "execution_count": 96,
     "metadata": {},
     "output_type": "execute_result"
    }
   ],
   "source": [
    "N = 2137\n",
    "GlobalBenchmark = benchmarkPrediction[:Global_Sales]\n",
    "GlobalTest = testE6[:Global_Sales]\n",
    "somme = 0\n",
    "for i in 1:N\n",
    "    somme = somme + (GlobalBenchmark[i] - GlobalTest[i])^2\n",
    "end\n",
    "RMSE_Globale = somme / N"
   ]
  },
  {
   "cell_type": "code",
   "execution_count": null,
   "metadata": {},
   "outputs": [],
   "source": []
  }
 ],
 "metadata": {
  "kernelspec": {
   "display_name": "Julia nodeps 0.7.0",
   "language": "julia",
   "name": "julia-nodeps-0.7"
  },
  "language_info": {
   "file_extension": ".jl",
   "mimetype": "application/julia",
   "name": "julia",
   "version": "0.7.0"
  }
 },
 "nbformat": 4,
 "nbformat_minor": 2
}
