{
 "cells": [
  {
   "cell_type": "code",
   "execution_count": 16,
   "metadata": {},
   "outputs": [],
   "source": [
    "#Julia 0.7\n",
    "using CSV, DataFrames"
   ]
  },
  {
   "cell_type": "markdown",
   "metadata": {},
   "source": [
    "# Chargement des donnees de test (equipe6)"
   ]
  },
  {
   "cell_type": "code",
   "execution_count": 17,
   "metadata": {},
   "outputs": [
    {
     "data": {
      "text/html": [
       "<table class=\"data-frame\"><thead><tr><th></th><th>ID</th><th>NA_Sales</th><th>Global_Sales</th></tr><tr><th></th><th>Int64⍰</th><th>Float64⍰</th><th>Float64⍰</th></tr></thead><tbody><p>6 rows × 3 columns</p><tr><th>1</th><td>1</td><td>0.101432</td><td>0.172605</td></tr><tr><th>2</th><td>2</td><td>0.000439844</td><td>0.0432509</td></tr><tr><th>3</th><td>3</td><td>0.0308291</td><td>0.0412706</td></tr><tr><th>4</th><td>4</td><td>0.52833</td><td>1.08082</td></tr><tr><th>5</th><td>5</td><td>0.0206288</td><td>0.131074</td></tr><tr><th>6</th><td>6</td><td>0.0890602</td><td>0.331157</td></tr></tbody></table>"
      ],
      "text/latex": [
       "\\begin{tabular}{r|ccc}\n",
       "\t& ID & NA\\_Sales & Global\\_Sales\\\\\n",
       "\t\\hline\n",
       "\t1 & 1 & 0.101432 & 0.172605 \\\\\n",
       "\t2 & 2 & 0.000439844 & 0.0432509 \\\\\n",
       "\t3 & 3 & 0.0308291 & 0.0412706 \\\\\n",
       "\t4 & 4 & 0.52833 & 1.08082 \\\\\n",
       "\t5 & 5 & 0.0206288 & 0.131074 \\\\\n",
       "\t6 & 6 & 0.0890602 & 0.331157 \\\\\n",
       "\\end{tabular}\n"
      ],
      "text/plain": [
       "6×3 DataFrame\n",
       "│ Row │ ID     │ NA_Sales    │ Global_Sales │\n",
       "│     │ \u001b[90mInt64⍰\u001b[39m │ \u001b[90mFloat64⍰\u001b[39m    │ \u001b[90mFloat64⍰\u001b[39m     │\n",
       "├─────┼────────┼─────────────┼──────────────┤\n",
       "│ 1   │ 1      │ 0.101432    │ 0.172605     │\n",
       "│ 2   │ 2      │ 0.000439844 │ 0.0432509    │\n",
       "│ 3   │ 3      │ 0.0308291   │ 0.0412706    │\n",
       "│ 4   │ 4      │ 0.52833     │ 1.08082      │\n",
       "│ 5   │ 5      │ 0.0206288   │ 0.131074     │\n",
       "│ 6   │ 6      │ 0.0890602   │ 0.331157     │"
      ]
     },
     "execution_count": 17,
     "metadata": {},
     "output_type": "execute_result"
    }
   ],
   "source": [
    "testE6 = CSV.read(\"TestEquipe6.csv\")\n",
    "head(testE6)"
   ]
  },
  {
   "cell_type": "markdown",
   "metadata": {},
   "source": [
    "# Chargement des donnees obtenues"
   ]
  },
  {
   "cell_type": "code",
   "execution_count": 18,
   "metadata": {},
   "outputs": [
    {
     "data": {
      "text/html": [
       "<table class=\"data-frame\"><thead><tr><th></th><th>ID</th><th>NA_Sales</th><th>Global_Sales</th></tr><tr><th></th><th>Int64⍰</th><th>Float64⍰</th><th>Float64⍰</th></tr></thead><tbody><p>6 rows × 3 columns</p><tr><th>1</th><td>14095</td><td>0.0460922</td><td>0.0598397</td></tr><tr><th>2</th><td>14096</td><td>0.120056</td><td>0.237219</td></tr><tr><th>3</th><td>14097</td><td>0.643902</td><td>1.2065</td></tr><tr><th>4</th><td>14098</td><td>0.259769</td><td>0.329062</td></tr><tr><th>5</th><td>14099</td><td>0.292246</td><td>0.462496</td></tr><tr><th>6</th><td>14100</td><td>0.0184655</td><td>0.0502083</td></tr></tbody></table>"
      ],
      "text/latex": [
       "\\begin{tabular}{r|ccc}\n",
       "\t& ID & NA\\_Sales & Global\\_Sales\\\\\n",
       "\t\\hline\n",
       "\t1 & 14095 & 0.0460922 & 0.0598397 \\\\\n",
       "\t2 & 14096 & 0.120056 & 0.237219 \\\\\n",
       "\t3 & 14097 & 0.643902 & 1.2065 \\\\\n",
       "\t4 & 14098 & 0.259769 & 0.329062 \\\\\n",
       "\t5 & 14099 & 0.292246 & 0.462496 \\\\\n",
       "\t6 & 14100 & 0.0184655 & 0.0502083 \\\\\n",
       "\\end{tabular}\n"
      ],
      "text/plain": [
       "6×3 DataFrame\n",
       "│ Row │ ID     │ NA_Sales  │ Global_Sales │\n",
       "│     │ \u001b[90mInt64⍰\u001b[39m │ \u001b[90mFloat64⍰\u001b[39m  │ \u001b[90mFloat64⍰\u001b[39m     │\n",
       "├─────┼────────┼───────────┼──────────────┤\n",
       "│ 1   │ 14095  │ 0.0460922 │ 0.0598397    │\n",
       "│ 2   │ 14096  │ 0.120056  │ 0.237219     │\n",
       "│ 3   │ 14097  │ 0.643902  │ 1.2065       │\n",
       "│ 4   │ 14098  │ 0.259769  │ 0.329062     │\n",
       "│ 5   │ 14099  │ 0.292246  │ 0.462496     │\n",
       "│ 6   │ 14100  │ 0.0184655 │ 0.0502083    │"
      ]
     },
     "execution_count": 18,
     "metadata": {},
     "output_type": "execute_result"
    }
   ],
   "source": [
    "benchmarkPrediction = CSV.read(\"prediction_ComposantePrincipale.csv\")\n",
    "head(benchmarkPrediction)"
   ]
  },
  {
   "cell_type": "markdown",
   "metadata": {},
   "source": [
    "# Calculer le RMSE pour les ventes en Amerique du Nord"
   ]
  },
  {
   "cell_type": "code",
   "execution_count": 19,
   "metadata": {},
   "outputs": [
    {
     "data": {
      "text/plain": [
       "0.8370834918922224"
      ]
     },
     "execution_count": 19,
     "metadata": {},
     "output_type": "execute_result"
    }
   ],
   "source": [
    "N = 2137\n",
    "NABenchmark = benchmarkPrediction[:NA_Sales]\n",
    "NATest = testE6[:NA_Sales]\n",
    "somme = 0\n",
    "for i in 1:N\n",
    "    somme = somme + (NABenchmark[i] - NATest[i])^2\n",
    "end\n",
    "RMSE_NA = somme / N"
   ]
  },
  {
   "cell_type": "markdown",
   "metadata": {},
   "source": [
    "# Calculer le RMSE pour les ventes globales"
   ]
  },
  {
   "cell_type": "code",
   "execution_count": 20,
   "metadata": {},
   "outputs": [
    {
     "data": {
      "text/plain": [
       "4.187608341617691"
      ]
     },
     "execution_count": 20,
     "metadata": {},
     "output_type": "execute_result"
    }
   ],
   "source": [
    "N = 2137\n",
    "GlobalBenchmark = benchmarkPrediction[:Global_Sales]\n",
    "GlobalTest = testE6[:Global_Sales]\n",
    "somme = 0\n",
    "for i in 1:N\n",
    "    somme = somme + (GlobalBenchmark[i] - GlobalTest[i])^2\n",
    "end\n",
    "RMSE_Globale = somme / N"
   ]
  },
  {
   "cell_type": "code",
   "execution_count": null,
   "metadata": {},
   "outputs": [],
   "source": []
  }
 ],
 "metadata": {
  "kernelspec": {
   "display_name": "Julia nodeps 0.7.0",
   "language": "julia",
   "name": "julia-nodeps-0.7"
  },
  "language_info": {
   "file_extension": ".jl",
   "mimetype": "application/julia",
   "name": "julia",
   "version": "0.7.0"
  }
 },
 "nbformat": 4,
 "nbformat_minor": 2
}
