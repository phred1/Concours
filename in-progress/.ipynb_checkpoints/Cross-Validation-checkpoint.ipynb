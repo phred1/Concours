{
 "cells": [
  {
   "cell_type": "code",
   "execution_count": 23,
   "metadata": {},
   "outputs": [],
   "source": [
    "# Julia 0.7\n",
    "using CSV, DataFrames, Gadfly, Statistics, LinearAlgebra, GLM, CategoricalArrays, MLBase"
   ]
  },
  {
   "cell_type": "code",
   "execution_count": 86,
   "metadata": {},
   "outputs": [
    {
     "data": {
      "text/html": [
       "<table class=\"data-frame\"><thead><tr><th></th><th>ID</th><th>Name</th><th>Platform</th><th>Year_of_Release</th><th>Genre</th><th>Publisher</th><th>JP_Sales</th><th>Other_Sales</th><th>Critic_Score</th><th>Critic_Count</th><th>User_Score</th><th>User_Count</th><th>Developer</th><th>Rating</th><th>NA_Sales</th><th>Global_Sales</th></tr><tr><th></th><th>Int64</th><th>String</th><th>String</th><th>Int64</th><th>String</th><th>String</th><th>Float64</th><th>Float64</th><th>Missing</th><th>Missing</th><th>Missing</th><th>Missing</th><th>Missing</th><th>Missing</th><th>Float64</th><th>Float64</th></tr></thead><tbody><p>1 rows × 16 columns</p><tr><th>1</th><td>100</td><td>Itoi Shigesato no Bass Tsuri No. 1 Ketteihan!</td><td>N64</td><td>2000</td><td>Sports</td><td>Nintendo</td><td>0.0710774</td><td>0.00160208</td><td>missing</td><td>missing</td><td>missing</td><td>missing</td><td>missing</td><td>missing</td><td>0.00108712</td><td>0.0755409</td></tr></tbody></table>"
      ],
      "text/latex": [
       "\\begin{tabular}{r|cccccccccccccccc}\n",
       "\t& ID & Name & Platform & Year\\_of\\_Release & Genre & Publisher & JP\\_Sales & Other\\_Sales & Critic\\_Score & Critic\\_Count & User\\_Score & User\\_Count & Developer & Rating & NA\\_Sales & Global\\_Sales\\\\\n",
       "\t\\hline\n",
       "\t1 & 100 & Itoi Shigesato no Bass Tsuri No. 1 Ketteihan! & N64 & 2000 & Sports & Nintendo & 0.0710774 & 0.00160208 &  &  &  &  &  &  & 0.00108712 & 0.0755409 \\\\\n",
       "\\end{tabular}\n"
      ],
      "text/plain": [
       "1×16 DataFrame. Omitted printing of 13 columns\n",
       "│ Row │ ID    │ Name                                          │ Platform │\n",
       "│     │ \u001b[90mInt64\u001b[39m │ \u001b[90mString\u001b[39m                                        │ \u001b[90mString\u001b[39m   │\n",
       "├─────┼───────┼───────────────────────────────────────────────┼──────────┤\n",
       "│ 1   │ 100   │ Itoi Shigesato no Bass Tsuri No. 1 Ketteihan! │ N64      │"
      ]
     },
     "execution_count": 86,
     "metadata": {},
     "output_type": "execute_result"
    }
   ],
   "source": [
    "train = CSV.read(\"train.csv\")\n",
    "train[100,:]"
   ]
  },
  {
   "cell_type": "code",
   "execution_count": 109,
   "metadata": {},
   "outputs": [
    {
     "data": {
      "text/plain": [
       "14094-element Array{Int64,1}:\n",
       "     1\n",
       "     2\n",
       "     3\n",
       "     4\n",
       "     5\n",
       "     6\n",
       "     7\n",
       "     8\n",
       "     9\n",
       "    10\n",
       "    11\n",
       "    12\n",
       "    13\n",
       "     ⋮\n",
       " 14083\n",
       " 14084\n",
       " 14085\n",
       " 14086\n",
       " 14087\n",
       " 14088\n",
       " 14089\n",
       " 14090\n",
       " 14091\n",
       " 14092\n",
       " 14093\n",
       " 14094"
      ]
     },
     "execution_count": 109,
     "metadata": {},
     "output_type": "execute_result"
    }
   ],
   "source": [
    "allIndexes = convert(Array{Int64},collect(train[1]))"
   ]
  },
  {
   "cell_type": "code",
   "execution_count": 110,
   "metadata": {},
   "outputs": [
    {
     "data": {
      "text/plain": [
       "14094-element Array{Union{Missing, Float64},1}:\n",
       " 0.0505241972496733  \n",
       " 0.039210798015818   \n",
       " 0.000374025675468139\n",
       " 0.00138204740174112 \n",
       " 0.0694222195148468  \n",
       " 0.140389756177552   \n",
       " 0.161401332716458   \n",
       " 0.00168635633960363 \n",
       " 0.0314133871151134  \n",
       " 0.000293506006710225\n",
       " 0.0615082866940647  \n",
       " 0.00158265324775126 \n",
       " 0.00153097702655938 \n",
       " ⋮                   \n",
       " 0.000796421536244435\n",
       " 0.000601123217493283\n",
       " 0.000202291447669263\n",
       " 0.00076714240573345 \n",
       " 0.00195880470704283 \n",
       " 0.0311580447079614  \n",
       " 0.0206155748199671  \n",
       " 0.000716744339093551\n",
       " 0.000754145663231595\n",
       " 0.00179397201351818 \n",
       " 0.00043544711265712 \n",
       " 0.000879715889692288"
      ]
     },
     "execution_count": 110,
     "metadata": {},
     "output_type": "execute_result"
    }
   ],
   "source": [
    "NA_Sales = collect(train[:,:NA_Sales])\n",
    "Global_Sales = collect(train[:,:Global_Sales])\n",
    "Other_Sales = collect(train[:,:Other_Sales])\n",
    "JP_Sales = collect(train[:,:JP_Sales])"
   ]
  },
  {
   "cell_type": "code",
   "execution_count": 111,
   "metadata": {},
   "outputs": [],
   "source": [
    "trainIndexes = collect(Kfold(size(train,1), 10))\n",
    "\n",
    "#Contiendra les 10 echantillons de training\n",
    "trainSamples = []\n",
    "\n",
    "#Contiendra les 10 echantillons de test\n",
    "testSamples = []\n",
    "\n",
    "for i=1:size(trainIndexes,1)\n",
    "    sampleTrain = similar(train,0)\n",
    "    sampleTest = similar(train,0)\n",
    "    \n",
    "    #Set up les \n",
    "    testIndexes = setdiff(allIndexes,trainIndexes[i])\n",
    "    \n",
    "    for k in eachindex(testIndexes)\n",
    "        sampleTest = vcat(sampleTest, train[testIndexes[k],:])\n",
    "    end\n",
    "    \n",
    "    for j in eachindex(trainIndexes[i])\n",
    "      index = trainIndexes[i][j]\n",
    "      sampleTrain = vcat(sampleTrain, train[index,:])\n",
    "    end\n",
    "    \n",
    "    push!(trainSamples, sampleTrain)\n",
    "    push!(testSamples, sampleTest)\n",
    "end\n"
   ]
  },
  {
   "cell_type": "code",
   "execution_count": 118,
   "metadata": {},
   "outputs": [
    {
     "data": {
      "text/plain": [
       "1410"
      ]
     },
     "execution_count": 118,
     "metadata": {},
     "output_type": "execute_result"
    }
   ],
   "source": [
    "size(testSamples[4],1)"
   ]
  },
  {
   "cell_type": "code",
   "execution_count": 21,
   "metadata": {},
   "outputs": [],
   "source": [
    "\n",
    "for i in eachindex(indexes[1:1])\n",
    "    size(indexes[i],2)\n",
    "end"
   ]
  },
  {
   "cell_type": "code",
   "execution_count": null,
   "metadata": {},
   "outputs": [],
   "source": []
  }
 ],
 "metadata": {
  "kernelspec": {
   "display_name": "Julia nodeps 0.7.0",
   "language": "julia",
   "name": "julia-nodeps-0.7"
  },
  "language_info": {
   "file_extension": ".jl",
   "mimetype": "application/julia",
   "name": "julia",
   "version": "0.7.0"
  }
 },
 "nbformat": 4,
 "nbformat_minor": 2
}
