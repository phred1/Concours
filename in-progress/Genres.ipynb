{
 "cells": [
  {
   "cell_type": "code",
   "execution_count": 50,
   "metadata": {},
   "outputs": [],
   "source": [
    "using CSV, DataFrames, Gadfly, GLM, Distributions"
   ]
  },
  {
   "cell_type": "code",
   "execution_count": 51,
   "metadata": {},
   "outputs": [
    {
     "data": {
      "text/plain": [
       "14094"
      ]
     },
     "execution_count": 51,
     "metadata": {},
     "output_type": "execute_result"
    }
   ],
   "source": [
    "train = CSV.read(\"train.csv\")\n",
    "size(train,1)"
   ]
  },
  {
   "cell_type": "code",
   "execution_count": 52,
   "metadata": {},
   "outputs": [
    {
     "data": {
      "text/plain": [
       "12"
      ]
     },
     "execution_count": 52,
     "metadata": {},
     "output_type": "execute_result"
    }
   ],
   "source": [
    "Y₁ = collect(train[:,:NA_Sales])\n",
    "Y₂ = collect(train[:,:Global_Sales])\n",
    "\n",
    "Other = collect(train[:,:Other_Sales])\n",
    "JP = collect(train[:,:JP_Sales])\n",
    "X = collect(train[:,:Genre])\n",
    "\n",
    "for i in eachindex(X) \n",
    "    if ismissing(X[i])\n",
    "        X[i] = \"missing\"\n",
    "    end\n",
    "end\n",
    "\n",
    "genreSet = Set(X) \n",
    "genres = collect(genreSet) \n",
    "\n",
    "\n",
    "n = size(Y₁,1)\n",
    "\n",
    "##Contient toutes les variables qualitatives\n",
    "X1 = hcat(ones(n))\n",
    "\n",
    "\n",
    "for i= 1:(length(genres)-1)\n",
    "    genre = genres[i]\n",
    "    qualitative = zeros(n)\n",
    "    if(genre != \"missing\" && genre != \"Platform\")\n",
    "        ## on parcourt tous les element de la variable Rating\n",
    "        for j in eachindex(X) \n",
    "            if X[j] == genre\n",
    "                qualitative[j] = 1\n",
    "            end\n",
    "        end\n",
    "        X1 = hcat(X1,qualitative)\n",
    "    end\n",
    "end\n",
    "\n",
    "\n",
    "X1 = hcat(X1, Other, JP)\n",
    "\n",
    "t1=X1[:,2]\n",
    "t2=X1[:,3]\n",
    "t3=X1[:,4]\n",
    "t4=X1[:,5]\n",
    "t5=X1[:,6]\n",
    "t6=X1[:,7]\n",
    "t7=X1[:,8]\n",
    "t8=X1[:,9]\n",
    "t9=X1[:,10]\n",
    "t10=X1[:,11]\n",
    "t11=X1[:,12]\n",
    "t12=X1[:,13]\n",
    "p = size(X1,2)-1\n"
   ]
  },
  {
   "cell_type": "code",
   "execution_count": 53,
   "metadata": {},
   "outputs": [
    {
     "data": {
      "text/plain": [
       "12-element Array{Float64,1}:\n",
       " 1.2595317128105374\n",
       " 1.463230727570387 \n",
       " 2.0165981481403183\n",
       " 1.4524054515843208\n",
       " 1.5565744429425814\n",
       " 1.7762275199772493\n",
       " 1.321380295320756 \n",
       " 1.6087605026416696\n",
       " 1.2161733927053542\n",
       " 1.3131795677478153\n",
       " 1.09325960922473  \n",
       " 1.1170616146835026"
      ]
     },
     "execution_count": 53,
     "metadata": {},
     "output_type": "execute_result"
    }
   ],
   "source": [
    "# Calculer le VIF\n",
    "VIF = Float64[] \n",
    "\n",
    "for i=1:p\n",
    "\n",
    "    ind = trues(p+1)\n",
    "    ind[i+1] = false\n",
    "    XX = X1[:,ind]\n",
    "    YY = X1[:,.!(ind)]\n",
    "\n",
    "    β̂ = (XX'XX)\\XX'YY\n",
    "    e = YY-XX*β̂\n",
    "    SSE = sum(e.^2)\n",
    "    SST = sum((YY-mean(YY)).^2)\n",
    "\n",
    "    R² = 1-SSE/SST\n",
    "\n",
    "    push!(VIF,1/(1-R²))\n",
    "    \n",
    "end\n",
    "\n",
    "VIF"
   ]
  },
  {
   "cell_type": "code",
   "execution_count": 54,
   "metadata": {},
   "outputs": [
    {
     "data": {
      "text/plain": [
       "13-element Array{Float64,1}:\n",
       " 10.456528726887214 \n",
       "  5.968275658626333 \n",
       "  5.592606327731688 \n",
       "  5.065747061892027 \n",
       "  4.665086804715119 \n",
       "  4.330463136365263 \n",
       "  3.86702701529456  \n",
       "  3.815229921248141 \n",
       "  3.4808753115980164\n",
       "  3.2649497161488465\n",
       "  2.949629554030694 \n",
       "  2.491481457773633 \n",
       "  1.0               "
      ]
     },
     "execution_count": 54,
     "metadata": {},
     "output_type": "execute_result"
    }
   ],
   "source": [
    "F = eigfact(X1'X1)\n",
    "λ = F[:values]\n",
    "ϕ = sqrt.(maximum(λ)./λ)"
   ]
  },
  {
   "cell_type": "code",
   "execution_count": null,
   "metadata": {},
   "outputs": [],
   "source": [
    "# Création d'un dataframe pour conserver les R² de tous les modèles \n",
    "df1 = DataFrame(Strategy = Int64[],Adventure = Int64[],Action = Int64[], Racing = Int64[], Role_Playing = Int64[],Sports = Int64[],Simulation = Int64[],Misc = Int64[],Puzzle = Int64[],Fighting = Int64[],Other_Sales = Int64[], JP_Sales = Int64[], R2aj = Float64[], R2prev = Float64[])\n",
    "\n",
    "# Variabilité totale\n",
    "SST = sum((Y₁ .- mean(Y₁)).^2)\n",
    "for i1=0:1  \n",
    "    for i2=0:1 \n",
    "        for i3=0:1 \n",
    "            for i4=0:1 \n",
    "                for i5=0:1 \n",
    "                    for i6=0:1 \n",
    "                        for i7=0:1 \n",
    "                            for i8=0:1 \n",
    "                                for i9=0:1\n",
    "                                    for i10=0:1\n",
    "                                        for i11=0:1\n",
    "                                            for i12=0:1\n",
    "        # Construction de la matrice des variables explicatives\n",
    "        X = ones(n,1)\n",
    "        if i1==1\n",
    "            X = hcat(X,t1)\n",
    "        end\n",
    "        if i2==1\n",
    "            X = hcat(X,t2)\n",
    "        end\n",
    "        if i3==1\n",
    "            X = hcat(X,t3)\n",
    "        end\n",
    "        if i4==1\n",
    "            X = hcat(X,t4)\n",
    "        end\n",
    "        if i5==1\n",
    "            X = hcat(X,t5)\n",
    "        end\n",
    "        if i6==1\n",
    "            X = hcat(X,t6)\n",
    "        end\n",
    "        if i7==1\n",
    "            X = hcat(X,t7)\n",
    "        end\n",
    "        if i8==1\n",
    "            X = hcat(X,t8)\n",
    "        end\n",
    "        if i9==1\n",
    "            X = hcat(X,t9)\n",
    "        end\n",
    "          \n",
    "        if i10==1\n",
    "            X = hcat(X,t10)\n",
    "        end\n",
    "                                                \n",
    "        if i11==1\n",
    "            X = hcat(X,t11)\n",
    "        end\n",
    "    \n",
    "        if i12==1\n",
    "            X = hcat(X,t12)\n",
    "        end\n",
    "                                                \n",
    "        # estimation des paramètres\n",
    "        β̂ = (X'*X)\\X'*Y₁\n",
    "        # Calculs des résidus\n",
    "        e = Y₁ .- X*β̂\n",
    "        # Calcul de la matrice H pour la validation croisée\n",
    "        H = X/(X'*X)*X'\n",
    "        # Calcul des erreurs de validation croisée\n",
    "        ẽ = e./(1 .- diag(H))\n",
    "        # Calcul du coefficient de détermination de prévision\n",
    "        R̃² = 1-sum(ẽ.^2)/ SST\n",
    "\n",
    "        # Calcul du coefficient de détermination ajusté\n",
    "        p = size(X,2)-1\n",
    "        SSE = sum(e.^2)\n",
    "        R² =  1 - SSE/SST * (n-1)/(n-p)\n",
    "\n",
    "        # Stocker les résultats dans le dataframe\n",
    "        push!(df1,[i1 i2 i3 i4 i5 i6 i7 i8 i9 i10 i11 i12 R² R̃²])\n",
    "                                            end\n",
    "                                        end\n",
    "                                    end\n",
    "                                end\n",
    "                            end\n",
    "                        end\n",
    "                    end\n",
    "                end\n",
    "            end\n",
    "        end\n",
    "    end\n",
    "end\n",
    "df1"
   ]
  },
  {
   "cell_type": "code",
   "execution_count": null,
   "metadata": {},
   "outputs": [],
   "source": [
    "tail(df1)\n",
    "describe(df1)\n",
    "r2 = df1[:R2aj]\n",
    "\n",
    "indexMax = 2\n",
    "max = 0\n",
    "for i in eachindex(r2)\n",
    "    if(max < r2[i])\n",
    "        max = r2[i]\n",
    "        indexMax = i\n",
    "    end\n",
    "end\n",
    "\n",
    "df1[indexMax,:]"
   ]
  },
  {
   "cell_type": "code",
   "execution_count": null,
   "metadata": {},
   "outputs": [],
   "source": [
    "# Création d'un dataframe pour conserver les R² de tous les modèles \n",
    "df2 = DataFrame(Strategy = Int64[],Adventure = Int64[],Action = Int64[], Racing = Int64[], Role_Playing = Int64[],Sports = Int64[],Simulation = Int64[],Misc = Int64[],Puzzle = Int64[],Fighting = Int64[],Other_Sales = Int64[], JP_Sales = Int64[], R2aj = Float64[], R2prev = Float64[])\n",
    "\n",
    "# Variabilité totale\n",
    "SST = sum((Y₂ .- mean(Y₂)).^2)\n",
    "for i1=0:1  \n",
    "    for i2=0:1 \n",
    "        for i3=0:1 \n",
    "            for i4=0:1 \n",
    "                for i5=0:1 \n",
    "                    for i6=0:1 \n",
    "                        for i7=0:1 \n",
    "                            for i8=0:1 \n",
    "                                for i9=0:1\n",
    "                                    for i10=0:1\n",
    "                                        for i11=0:1\n",
    "                                            for i12=0:1\n",
    "        # Construction de la matrice des variables explicatives\n",
    "        X = ones(n,1)\n",
    "        if i1==1\n",
    "            X = hcat(X,t1)\n",
    "        end\n",
    "        if i2==1\n",
    "            X = hcat(X,t2)\n",
    "        end\n",
    "        if i3==1\n",
    "            X = hcat(X,t3)\n",
    "        end\n",
    "        if i4==1\n",
    "            X = hcat(X,t4)\n",
    "        end\n",
    "        if i5==1\n",
    "            X = hcat(X,t5)\n",
    "        end\n",
    "        if i6==1\n",
    "            X = hcat(X,t6)\n",
    "        end\n",
    "        if i7==1\n",
    "            X = hcat(X,t7)\n",
    "        end\n",
    "        if i8==1\n",
    "            X = hcat(X,t8)\n",
    "        end\n",
    "        if i9==1\n",
    "            X = hcat(X,t9)\n",
    "        end\n",
    "          \n",
    "        if i10==1\n",
    "            X = hcat(X,t10)\n",
    "        end\n",
    "                                                \n",
    "        if i11==1\n",
    "            X = hcat(X,t11)\n",
    "        end\n",
    "    \n",
    "        if i12==1\n",
    "            X = hcat(X,t12)\n",
    "        end\n",
    "                                                \n",
    "        # estimation des paramètres\n",
    "        β̂ = (X'*X)\\X'*Y₂\n",
    "        # Calculs des résidus\n",
    "        e = Y₂ .- X*β̂\n",
    "        # Calcul de la matrice H pour la validation croisée\n",
    "        H = X/(X'*X)*X'\n",
    "        # Calcul des erreurs de validation croisée\n",
    "        ẽ = e./(1 .- diag(H))\n",
    "        # Calcul du coefficient de détermination de prévision\n",
    "        R̃² = 1-sum(ẽ.^2)/ SST\n",
    "\n",
    "        # Calcul du coefficient de détermination ajusté\n",
    "        p = size(X,2)-1\n",
    "        SSE = sum(e.^2)\n",
    "        R² =  1 - SSE/SST * (n-1)/(n-p)\n",
    "\n",
    "        # Stocker les résultats dans le dataframe\n",
    "        push!(df2,[i1 i2 i3 i4 i5 i6 i7 i8 i9 i10 i11 i12 R² R̃²])\n",
    "                                            end\n",
    "                                        end\n",
    "                                    end\n",
    "                                end\n",
    "                            end\n",
    "                        end\n",
    "                    end\n",
    "                end\n",
    "            end\n",
    "        end\n",
    "    end\n",
    "end\n",
    "\n",
    "df2"
   ]
  },
  {
   "cell_type": "code",
   "execution_count": null,
   "metadata": {},
   "outputs": [],
   "source": [
    "tail(df2)\n",
    "describe(df2)\n",
    "r2_2 = df2[:R2aj]\n",
    "\n",
    "indexMax2 = 2\n",
    "max2 = 0\n",
    "for i in eachindex(r2_2)\n",
    "    if(max2 < r2_2[i])\n",
    "        max2 = r2_2[i]\n",
    "        indexMax2 = i\n",
    "    end\n",
    "end\n",
    "\n",
    "df2[indexMax2,:]"
   ]
  },
  {
   "cell_type": "code",
   "execution_count": 33,
   "metadata": {},
   "outputs": [
    {
     "data": {
      "text/plain": [
       "3-element Array{Float64,1}:\n",
       " 0.12340840358458269\n",
       " 2.2084604101912313 \n",
       " 5.076323019358454  "
      ]
     },
     "execution_count": 33,
     "metadata": {},
     "output_type": "execute_result"
    }
   ],
   "source": [
    "β̂₁ = (X1'X1)\\X1'Y₁\n",
    "\n",
    "β̂₂ = (X2'X2)\\X2'Y₂"
   ]
  },
  {
   "cell_type": "code",
   "execution_count": 34,
   "metadata": {},
   "outputs": [
    {
     "data": {
      "text/html": [
       "<table class=\"data-frame\"><thead><tr><th></th><th>ID</th><th>Platform</th><th>Year_of_Release</th><th>Genre</th><th>Publisher</th><th>JP_Sales</th><th>Other_Sales</th><th>Critic_Score</th><th>Critic_Count</th><th>User_Score</th><th>User_Count</th><th>Developer</th><th>Rating</th></tr><tr><th></th><th>Int64⍰</th><th>String⍰</th><th>Int64⍰</th><th>String⍰</th><th>String⍰</th><th>Float64⍰</th><th>Float64⍰</th><th>Int64⍰</th><th>Int64⍰</th><th>Float64⍰</th><th>Int64⍰</th><th>String⍰</th><th>String⍰</th></tr></thead><tbody><tr><th>1</th><td>14095</td><td>GBA</td><td>2002</td><td>Fighting</td><td>Acclaim Entertainment</td><td>0.000520983</td><td>0.00025736</td><td>24</td><td>11</td><td>3.7</td><td>10</td><td>Powerhead Games</td><td>E</td></tr><tr><th>2</th><td>14096</td><td>PS3</td><td>2008</td><td>Action</td><td>Codemasters</td><td>0.000966418</td><td>0.0204632</td><td>72</td><td>35</td><td>7.7</td><td>27</td><td>4J Studios</td><td>T</td></tr><tr><th>3</th><td>14097</td><td>N64</td><td>1997</td><td>Sports</td><td>Konami Digital Entertainment</td><td>0.259834</td><td>0.0489383</td><td>missing</td><td>missing</td><td>missing</td><td>missing</td><td>missing</td><td>missing</td></tr><tr><th>4</th><td>14098</td><td>GC</td><td>2002</td><td>Fighting</td><td>Midway Games</td><td>0.00088793</td><td>0.00826891</td><td>81</td><td>20</td><td>8.7</td><td>43</td><td>Midway</td><td>M</td></tr><tr><th>5</th><td>14099</td><td>X360</td><td>2010</td><td>Role-Playing</td><td>Sega</td><td>0.000439246</td><td>0.0388025</td><td>63</td><td>68</td><td>7.2</td><td>201</td><td>Obsidian Entertainment</td><td>M</td></tr><tr><th>6</th><td>14100</td><td>DS</td><td>2009</td><td>Adventure</td><td>Ubisoft</td><td>0.001625</td><td>0.00016853</td><td>missing</td><td>missing</td><td>7.5</td><td>4</td><td>Longtail Studios</td><td>T</td></tr></tbody></table>"
      ],
      "text/plain": [
       "6×13 DataFrame. Omitted printing of 9 columns\n",
       "│ Row │ ID     │ Platform │ Year_of_Release │ Genre        │\n",
       "│     │ \u001b[90mInt64⍰\u001b[39m │ \u001b[90mString⍰\u001b[39m  │ \u001b[90mInt64⍰\u001b[39m          │ \u001b[90mString⍰\u001b[39m      │\n",
       "├─────┼────────┼──────────┼─────────────────┼──────────────┤\n",
       "│ 1   │ 14095  │ GBA      │ 2002            │ Fighting     │\n",
       "│ 2   │ 14096  │ PS3      │ 2008            │ Action       │\n",
       "│ 3   │ 14097  │ N64      │ 1997            │ Sports       │\n",
       "│ 4   │ 14098  │ GC       │ 2002            │ Fighting     │\n",
       "│ 5   │ 14099  │ X360     │ 2010            │ Role-Playing │\n",
       "│ 6   │ 14100  │ DS       │ 2009            │ Adventure    │"
      ]
     },
     "execution_count": 34,
     "metadata": {},
     "output_type": "execute_result"
    }
   ],
   "source": [
    "test = CSV.read(\"test.csv\")\n",
    "head(test)"
   ]
  },
  {
   "cell_type": "code",
   "execution_count": 31,
   "metadata": {},
   "outputs": [
    {
     "name": "stderr",
     "output_type": "stream",
     "text": [
      "┌ Warning: indexing with colon as row will create a copy in the future use df[col_inds] to get the columns without copying\n",
      "│   caller = top-level scope at In[31]:1\n",
      "└ @ Core In[31]:1\n",
      "┌ Warning: indexing with colon as row will create a copy in the future use df[col_inds] to get the columns without copying\n",
      "│   caller = top-level scope at In[31]:2\n",
      "└ @ Core In[31]:2\n",
      "┌ Warning: indexing with colon as row will create a copy in the future use df[col_inds] to get the columns without copying\n",
      "│   caller = top-level scope at In[31]:3\n",
      "└ @ Core In[31]:3\n"
     ]
    },
    {
     "ename": "KeyError",
     "evalue": "KeyError: key :Global_Sales not found",
     "output_type": "error",
     "traceback": [
      "KeyError: key :Global_Sales not found",
      "",
      "Stacktrace:",
      " [1] getindex at ./dict.jl:478 [inlined]",
      " [2] getindex at /Users/philippereddy/.julia/packages/DataFrames/1PqZ3/src/other/index.jl:123 [inlined]",
      " [3] getindex at /Users/philippereddy/.julia/packages/DataFrames/1PqZ3/src/dataframe/dataframe.jl:264 [inlined]",
      " [4] getindex(::DataFrame, ::Colon, ::Symbol) at /Users/philippereddy/.julia/packages/DataFrames/1PqZ3/src/dataframe/dataframe.jl:314",
      " [5] top-level scope at In[31]:3"
     ]
    }
   ],
   "source": [
    "T₁=test[:,:JP_Sales]\n",
    "T₂=test[:,:Other_Sales]\n",
    "T₃=test[:,:Global_Sales]\n",
    "T₄=test[:,:NA_Sales]\n",
    "n = length(T₁)\n",
    "T1 = hcat(ones(n),T₁,T₂,T₃)\n",
    "T2 = hcat(ones(n),T₁,T₂)\n",
    "\n",
    "NA_Sales = β̂₁*T1\n",
    "\n",
    "Global_Sales = β̂₂*T2\n",
    "\n",
    "predictions = DataFrame(ID = test[:ID], NA_Sales = NA_Sales, Global_Sales = Global_Sales)\n",
    "CSV.write(\"predictions.csv\",prediction)"
   ]
  },
  {
   "cell_type": "code",
   "execution_count": null,
   "metadata": {},
   "outputs": [],
   "source": []
  },
  {
   "cell_type": "code",
   "execution_count": null,
   "metadata": {},
   "outputs": [],
   "source": []
  }
 ],
 "metadata": {
  "kernelspec": {
   "display_name": "Julia nodeps 0.7.0",
   "language": "julia",
   "name": "julia-nodeps-0.7"
  },
  "language_info": {
   "file_extension": ".jl",
   "mimetype": "application/julia",
   "name": "julia",
   "version": "0.7.0"
  }
 },
 "nbformat": 4,
 "nbformat_minor": 2
}
