{
 "cells": [
  {
   "cell_type": "code",
   "execution_count": 101,
   "metadata": {},
   "outputs": [],
   "source": [
    "using CSV, DataFrames, Gadfly, GLM, Distributions"
   ]
  },
  {
   "cell_type": "code",
   "execution_count": 102,
   "metadata": {},
   "outputs": [
    {
     "data": {
      "text/plain": [
       "14094"
      ]
     },
     "execution_count": 102,
     "metadata": {},
     "output_type": "execute_result"
    }
   ],
   "source": [
    "train = CSV.read(\"train.csv\")\n",
    "size(train,1)"
   ]
  },
  {
   "cell_type": "code",
   "execution_count": 103,
   "metadata": {},
   "outputs": [
    {
     "data": {
      "text/plain": [
       "14094×3 Array{Union{Missing, Float64},2}:\n",
       " 1.0  0.0100241    0.0505242  \n",
       " 1.0  0.00179053   0.0392108  \n",
       " 1.0  0.00179738   0.000374026\n",
       " 1.0  0.14001      0.00138205 \n",
       " 1.0  0.00953506   0.0694222  \n",
       " 1.0  0.0302705    0.14039    \n",
       " 1.0  0.000962246  0.161401   \n",
       " 1.0  0.011419     0.00168636 \n",
       " 1.0  0.000182071  0.0314134  \n",
       " 1.0  0.0517094    0.000293506\n",
       " 1.0  0.690459     0.0615083  \n",
       " 1.0  0.00124541   0.00158265 \n",
       " 1.0  0.0412362    0.00153098 \n",
       " ⋮                            \n",
       " 1.0  0.00137629   0.000796422\n",
       " 1.0  0.0614496    0.000601123\n",
       " 1.0  0.00882679   0.000202291\n",
       " 1.0  0.000427063  0.000767142\n",
       " 1.0  3.93275e-5   0.0019588  \n",
       " 1.0  0.0014472    0.031158   \n",
       " 1.0  0.000931152  0.0206156  \n",
       " 1.0  0.00902387   0.000716744\n",
       " 1.0  0.000880418  0.000754146\n",
       " 1.0  0.0018516    0.00179397 \n",
       " 1.0  0.00193711   0.000435447\n",
       " 1.0  0.00120583   0.000879716"
      ]
     },
     "execution_count": 103,
     "metadata": {},
     "output_type": "execute_result"
    }
   ],
   "source": [
    "Y₁ = collect(train[:,:NA_Sales])\n",
    "Y₂ = collect(train[:,:Global_Sales])\n",
    "X₁ = collect(train[:,:Critic_Score])\n",
    "X₂ = collect(train[:,:Critic_Count])\n",
    "X₃ = collect(train[:,:User_Score])\n",
    "X₄ = collect(train[:,:User_Count])\n",
    "X₅ = collect(train[:,:Other_Sales])\n",
    "X₆ = collect(train[:,:JP_Sales])\n",
    "X₇ = collect(train[:,:Rating])\n",
    "X₈ = collect(train[:,:Genre])\n",
    "\n",
    "n = size(Y₁,1)\n",
    "Xtotal = hcat(ones(n),X₅,X₆)"
   ]
  },
  {
   "cell_type": "code",
   "execution_count": 104,
   "metadata": {},
   "outputs": [
    {
     "data": {
      "text/plain": [
       "14094×7 Array{Union{Missing, Float64},2}:\n",
       " 1.0  0.0100241    0.0505242    74.0  40.0  7.5    13.0\n",
       " 1.0  0.00179053   0.0392108    69.0  26.0  7.0   157.0\n",
       " 1.0  0.00179738   0.000374026  69.0  26.0  7.0   157.0\n",
       " 1.0  0.14001      0.00138205   69.0  26.0  7.0   157.0\n",
       " 1.0  0.00953506   0.0694222    67.0  19.0  7.5    61.0\n",
       " 1.0  0.0302705    0.14039      72.0  33.0  8.2   179.0\n",
       " 1.0  0.000962246  0.161401     69.0  26.0  7.0   157.0\n",
       " 1.0  0.011419     0.00168636   63.0  31.0  6.6     7.0\n",
       " 1.0  0.000182071  0.0314134    69.0  26.0  7.0   157.0\n",
       " 1.0  0.0517094    0.000293506  69.0  26.0  7.0   157.0\n",
       " 1.0  0.690459     0.0615083    84.0  57.0  7.4  2142.0\n",
       " 1.0  0.00124541   0.00158265   69.0  26.0  7.0   157.0\n",
       " 1.0  0.0412362    0.00153098   69.0  26.0  7.0   157.0\n",
       " ⋮                                          ⋮          \n",
       " 1.0  0.00137629   0.000796422  69.0  26.0  7.0   157.0\n",
       " 1.0  0.0614496    0.000601123  72.0   8.0  4.6    32.0\n",
       " 1.0  0.00882679   0.000202291  69.0  26.0  7.0   157.0\n",
       " 1.0  0.000427063  0.000767142  69.0  26.0  7.0   157.0\n",
       " 1.0  3.93275e-5   0.0019588    69.0  26.0  7.0   157.0\n",
       " 1.0  0.0014472    0.031158     69.0  26.0  7.0   157.0\n",
       " 1.0  0.000931152  0.0206156    69.0  26.0  7.0   157.0\n",
       " 1.0  0.00902387   0.000716744  69.0  12.0  8.7    15.0\n",
       " 1.0  0.000880418  0.000754146  69.0  26.0  7.0   157.0\n",
       " 1.0  0.0018516    0.00179397   42.0   4.0  5.1     7.0\n",
       " 1.0  0.00193711   0.000435447  69.0  26.0  7.0   157.0\n",
       " 1.0  0.00120583   0.000879716  69.0  26.0  7.0   157.0"
      ]
     },
     "execution_count": 104,
     "metadata": {},
     "output_type": "execute_result"
    }
   ],
   "source": [
    "\n",
    "##Critic score, User Score, Critic count, User Count \n",
    "moyenneCriticCount = floor(mean(collect(skipmissing(train[:,:Critic_Score]))))\n",
    "moyenneCriticScore =floor(mean(collect(skipmissing(train[:,:Critic_Count]))))\n",
    "moyenneUser_Score = floor(mean(collect(skipmissing(train[:,:User_Score]))))\n",
    "moyenneUser_Count = floor(mean(collect(skipmissing(train[:,:User_Count]))))\n",
    "\n",
    "\n",
    "for i in eachindex(X₁) \n",
    "    if ismissing(X₁[i]) || ismissing(X₂[i]) || ismissing(X₃[i]) || ismissing(X₄[i])\n",
    "        X₁[i]= moyenneCriticCount\n",
    "        X₂[i]= moyenneCriticScore\n",
    "        X₃[i]= moyenneUser_Score\n",
    "        X₄[i]= moyenneUser_Count\n",
    "    end\n",
    "end\n",
    "Xtotal = hcat(Xtotal,X₁,X₂,X₃,X₄)"
   ]
  },
  {
   "cell_type": "code",
   "execution_count": 105,
   "metadata": {},
   "outputs": [
    {
     "data": {
      "text/plain": [
       "14094×10 Array{Union{Missing, Float64},2}:\n",
       " 1.0  0.0100241    0.0505242    74.0  40.0  7.5    13.0  1.0  0.0  0.0\n",
       " 1.0  0.00179053   0.0392108    69.0  26.0  7.0   157.0  0.0  0.0  1.0\n",
       " 1.0  0.00179738   0.000374026  69.0  26.0  7.0   157.0  1.0  0.0  0.0\n",
       " 1.0  0.14001      0.00138205   69.0  26.0  7.0   157.0  1.0  0.0  0.0\n",
       " 1.0  0.00953506   0.0694222    67.0  19.0  7.5    61.0  0.0  1.0  0.0\n",
       " 1.0  0.0302705    0.14039      72.0  33.0  8.2   179.0  0.0  1.0  0.0\n",
       " 1.0  0.000962246  0.161401     69.0  26.0  7.0   157.0  0.0  0.0  1.0\n",
       " 1.0  0.011419     0.00168636   63.0  31.0  6.6     7.0  0.0  0.0  0.0\n",
       " 1.0  0.000182071  0.0314134    69.0  26.0  7.0   157.0  0.0  0.0  1.0\n",
       " 1.0  0.0517094    0.000293506  69.0  26.0  7.0   157.0  0.0  0.0  1.0\n",
       " 1.0  0.690459     0.0615083    84.0  57.0  7.4  2142.0  0.0  1.0  0.0\n",
       " 1.0  0.00124541   0.00158265   69.0  26.0  7.0   157.0  1.0  0.0  0.0\n",
       " 1.0  0.0412362    0.00153098   69.0  26.0  7.0   157.0  0.0  0.0  1.0\n",
       " ⋮                                          ⋮                         \n",
       " 1.0  0.00137629   0.000796422  69.0  26.0  7.0   157.0  0.0  0.0  1.0\n",
       " 1.0  0.0614496    0.000601123  72.0   8.0  4.6    32.0  0.0  0.0  0.0\n",
       " 1.0  0.00882679   0.000202291  69.0  26.0  7.0   157.0  0.0  0.0  1.0\n",
       " 1.0  0.000427063  0.000767142  69.0  26.0  7.0   157.0  0.0  0.0  1.0\n",
       " 1.0  3.93275e-5   0.0019588    69.0  26.0  7.0   157.0  0.0  0.0  1.0\n",
       " 1.0  0.0014472    0.031158     69.0  26.0  7.0   157.0  0.0  0.0  1.0\n",
       " 1.0  0.000931152  0.0206156    69.0  26.0  7.0   157.0  0.0  0.0  1.0\n",
       " 1.0  0.00902387   0.000716744  69.0  12.0  8.7    15.0  1.0  0.0  0.0\n",
       " 1.0  0.000880418  0.000754146  69.0  26.0  7.0   157.0  0.0  0.0  0.0\n",
       " 1.0  0.0018516    0.00179397   42.0   4.0  5.1     7.0  1.0  0.0  0.0\n",
       " 1.0  0.00193711   0.000435447  69.0  26.0  7.0   157.0  0.0  0.0  1.0\n",
       " 1.0  0.00120583   0.000879716  69.0  26.0  7.0   157.0  1.0  0.0  0.0"
      ]
     },
     "execution_count": 105,
     "metadata": {},
     "output_type": "execute_result"
    }
   ],
   "source": [
    "#Rating\n",
    "for i in eachindex(X₇) \n",
    "    if ismissing(X₇[i])\n",
    "        X₇[i] = \"missing\"\n",
    "    end\n",
    "end\n",
    "\n",
    "ratingSet = Set(X₇) \n",
    "ratings = collect(ratingSet) \n",
    "\n",
    "## Comme on sait que les meilleurs variables explicatives sont le rating\n",
    "## E, M, missing et K-A, on retire tous les autres\n",
    "filter!(x->x≠\"EC\",ratings)\n",
    "filter!(x->x≠\"E10+\",ratings)\n",
    "filter!(x->x≠\"RP\",ratings)\n",
    "filter!(x->x≠\"T\",ratings)\n",
    "filter!(x->x≠\"AO\",ratings)\n",
    "##Contient toutes les variables qualitatives du rating\n",
    "# Xrating = Array{Int64}[14094]\n",
    "\n",
    "\n",
    "for i= 1:(length(ratings)-1)\n",
    "    categorie = ratings[i]\n",
    "    qualitative = zeros(n)\n",
    "    \n",
    "    ## on parcourt tous les element de la variable Rating\n",
    "    for j in eachindex(X₇) \n",
    "        if X₇[j] == categorie\n",
    "            qualitative[j] = 1\n",
    "        end\n",
    "    end\n",
    "    \n",
    "    Xtotal = hcat(Xtotal,qualitative)\n",
    "end\n",
    "\n",
    "Xtotal\n"
   ]
  },
  {
   "cell_type": "code",
   "execution_count": 106,
   "metadata": {},
   "outputs": [],
   "source": [
    "# ## Genre\n",
    "\n",
    "\n",
    "# for i in eachindex(X₈) \n",
    "#     if ismissing(X₈[i])\n",
    "#         X₈[i] = \"missing\"\n",
    "#     end\n",
    "# end\n",
    "\n",
    "# genreSet = Set(X₈) \n",
    "# genres = collect(genreSet) \n",
    "\n",
    "# print(length(genres))\n",
    "# ##Contient toutes les variables qualitatives de genre\n",
    "# # Xgenre = Array{Float64}[]\n",
    "\n",
    "\n",
    "# for i= 1:(length(genres)-1)\n",
    "#     genre = genres[i]\n",
    "#     qualitative = zeros(n)\n",
    "    \n",
    "#     ## on parcourt tous les element de la variable Rating\n",
    "#     for j in eachindex(X₈) \n",
    "#         if X₈[j] == genre\n",
    "#             qualitative[j] = 1\n",
    "#         end\n",
    "#     end\n",
    "    \n",
    "#     Xtotal = hcat(Xtotal,qualitative)\n",
    "# end\n",
    "\n",
    "# # Xtotal = hcat(Xtotal,Xgenre)"
   ]
  },
  {
   "cell_type": "code",
   "execution_count": 107,
   "metadata": {},
   "outputs": [
    {
     "data": {
      "text/plain": [
       "14094×10 Array{Union{Missing, Float64},2}:\n",
       " 1.0  0.0100241    0.0505242    74.0  40.0  7.5    13.0  1.0  0.0  0.0\n",
       " 1.0  0.00179053   0.0392108    69.0  26.0  7.0   157.0  0.0  0.0  1.0\n",
       " 1.0  0.00179738   0.000374026  69.0  26.0  7.0   157.0  1.0  0.0  0.0\n",
       " 1.0  0.14001      0.00138205   69.0  26.0  7.0   157.0  1.0  0.0  0.0\n",
       " 1.0  0.00953506   0.0694222    67.0  19.0  7.5    61.0  0.0  1.0  0.0\n",
       " 1.0  0.0302705    0.14039      72.0  33.0  8.2   179.0  0.0  1.0  0.0\n",
       " 1.0  0.000962246  0.161401     69.0  26.0  7.0   157.0  0.0  0.0  1.0\n",
       " 1.0  0.011419     0.00168636   63.0  31.0  6.6     7.0  0.0  0.0  0.0\n",
       " 1.0  0.000182071  0.0314134    69.0  26.0  7.0   157.0  0.0  0.0  1.0\n",
       " 1.0  0.0517094    0.000293506  69.0  26.0  7.0   157.0  0.0  0.0  1.0\n",
       " 1.0  0.690459     0.0615083    84.0  57.0  7.4  2142.0  0.0  1.0  0.0\n",
       " 1.0  0.00124541   0.00158265   69.0  26.0  7.0   157.0  1.0  0.0  0.0\n",
       " 1.0  0.0412362    0.00153098   69.0  26.0  7.0   157.0  0.0  0.0  1.0\n",
       " ⋮                                          ⋮                         \n",
       " 1.0  0.00137629   0.000796422  69.0  26.0  7.0   157.0  0.0  0.0  1.0\n",
       " 1.0  0.0614496    0.000601123  72.0   8.0  4.6    32.0  0.0  0.0  0.0\n",
       " 1.0  0.00882679   0.000202291  69.0  26.0  7.0   157.0  0.0  0.0  1.0\n",
       " 1.0  0.000427063  0.000767142  69.0  26.0  7.0   157.0  0.0  0.0  1.0\n",
       " 1.0  3.93275e-5   0.0019588    69.0  26.0  7.0   157.0  0.0  0.0  1.0\n",
       " 1.0  0.0014472    0.031158     69.0  26.0  7.0   157.0  0.0  0.0  1.0\n",
       " 1.0  0.000931152  0.0206156    69.0  26.0  7.0   157.0  0.0  0.0  1.0\n",
       " 1.0  0.00902387   0.000716744  69.0  12.0  8.7    15.0  1.0  0.0  0.0\n",
       " 1.0  0.000880418  0.000754146  69.0  26.0  7.0   157.0  0.0  0.0  0.0\n",
       " 1.0  0.0018516    0.00179397   42.0   4.0  5.1     7.0  1.0  0.0  0.0\n",
       " 1.0  0.00193711   0.000435447  69.0  26.0  7.0   157.0  0.0  0.0  1.0\n",
       " 1.0  0.00120583   0.000879716  69.0  26.0  7.0   157.0  1.0  0.0  0.0"
      ]
     },
     "execution_count": 107,
     "metadata": {},
     "output_type": "execute_result"
    }
   ],
   "source": [
    "p = size(Xtotal,2)-1\n",
    "Xtotal"
   ]
  },
  {
   "cell_type": "code",
   "execution_count": 108,
   "metadata": {},
   "outputs": [
    {
     "data": {
      "text/plain": [
       "10-element Array{Float64,1}:\n",
       " -0.2300277916066933    \n",
       "  4.8354377773571535    \n",
       "  2.242312041425307     \n",
       "  0.006243405862818217  \n",
       "  0.005114951055507173  \n",
       " -0.030853428434262337  \n",
       "  0.00014321335730794826\n",
       "  0.09965441723405721   \n",
       "  0.03427738635844263   \n",
       " -0.10544306846557087   "
      ]
     },
     "execution_count": 108,
     "metadata": {},
     "output_type": "execute_result"
    }
   ],
   "source": [
    "β̂₁ = (Xtotal'Xtotal)\\Xtotal'Y₁\n",
    "\n",
    "β̂₂ = (Xtotal'Xtotal)\\Xtotal'Y₂"
   ]
  },
  {
   "cell_type": "code",
   "execution_count": 109,
   "metadata": {},
   "outputs": [
    {
     "data": {
      "text/html": [
       "<table class=\"data-frame\"><thead><tr><th></th><th>ID</th><th>Platform</th><th>Year_of_Release</th><th>Genre</th><th>Publisher</th><th>JP_Sales</th><th>Other_Sales</th><th>Critic_Score</th><th>Critic_Count</th><th>User_Score</th><th>User_Count</th><th>Developer</th><th>Rating</th></tr><tr><th></th><th>Int64⍰</th><th>String⍰</th><th>Int64⍰</th><th>String⍰</th><th>String⍰</th><th>Float64⍰</th><th>Float64⍰</th><th>Int64⍰</th><th>Int64⍰</th><th>Float64⍰</th><th>Int64⍰</th><th>String⍰</th><th>String⍰</th></tr></thead><tbody><tr><th>1</th><td>14095</td><td>GBA</td><td>2002</td><td>Fighting</td><td>Acclaim Entertainment</td><td>0.000520983</td><td>0.00025736</td><td>24</td><td>11</td><td>3.7</td><td>10</td><td>Powerhead Games</td><td>E</td></tr><tr><th>2</th><td>14096</td><td>PS3</td><td>2008</td><td>Action</td><td>Codemasters</td><td>0.000966418</td><td>0.0204632</td><td>72</td><td>35</td><td>7.7</td><td>27</td><td>4J Studios</td><td>T</td></tr><tr><th>3</th><td>14097</td><td>N64</td><td>1997</td><td>Sports</td><td>Konami Digital Entertainment</td><td>0.259834</td><td>0.0489383</td><td>missing</td><td>missing</td><td>missing</td><td>missing</td><td>missing</td><td>missing</td></tr><tr><th>4</th><td>14098</td><td>GC</td><td>2002</td><td>Fighting</td><td>Midway Games</td><td>0.00088793</td><td>0.00826891</td><td>81</td><td>20</td><td>8.7</td><td>43</td><td>Midway</td><td>M</td></tr><tr><th>5</th><td>14099</td><td>X360</td><td>2010</td><td>Role-Playing</td><td>Sega</td><td>0.000439246</td><td>0.0388025</td><td>63</td><td>68</td><td>7.2</td><td>201</td><td>Obsidian Entertainment</td><td>M</td></tr><tr><th>6</th><td>14100</td><td>DS</td><td>2009</td><td>Adventure</td><td>Ubisoft</td><td>0.001625</td><td>0.00016853</td><td>missing</td><td>missing</td><td>7.5</td><td>4</td><td>Longtail Studios</td><td>T</td></tr></tbody></table>"
      ],
      "text/plain": [
       "6×13 DataFrame. Omitted printing of 9 columns\n",
       "│ Row │ ID     │ Platform │ Year_of_Release │ Genre        │\n",
       "│     │ \u001b[90mInt64⍰\u001b[39m │ \u001b[90mString⍰\u001b[39m  │ \u001b[90mInt64⍰\u001b[39m          │ \u001b[90mString⍰\u001b[39m      │\n",
       "├─────┼────────┼──────────┼─────────────────┼──────────────┤\n",
       "│ 1   │ 14095  │ GBA      │ 2002            │ Fighting     │\n",
       "│ 2   │ 14096  │ PS3      │ 2008            │ Action       │\n",
       "│ 3   │ 14097  │ N64      │ 1997            │ Sports       │\n",
       "│ 4   │ 14098  │ GC       │ 2002            │ Fighting     │\n",
       "│ 5   │ 14099  │ X360     │ 2010            │ Role-Playing │\n",
       "│ 6   │ 14100  │ DS       │ 2009            │ Adventure    │"
      ]
     },
     "execution_count": 109,
     "metadata": {},
     "output_type": "execute_result"
    }
   ],
   "source": [
    "test = CSV.read(\"test.csv\")\n",
    "head(test)"
   ]
  },
  {
   "cell_type": "code",
   "execution_count": 110,
   "metadata": {},
   "outputs": [
    {
     "data": {
      "text/plain": [
       "2490×3 Array{Union{Missing, Float64},2}:\n",
       " 1.0  0.00025736   0.000520983\n",
       " 1.0  0.0204632    0.000966418\n",
       " 1.0  0.0489383    0.259834   \n",
       " 1.0  0.00826891   0.00088793 \n",
       " 1.0  0.0388025    0.000439246\n",
       " 1.0  0.00016853   0.001625   \n",
       " 1.0  0.00805139   1.11841    \n",
       " 1.0  0.0309118    0.000595432\n",
       " 1.0  0.00120239   0.0413245  \n",
       " 1.0  0.0514995    0.00108301 \n",
       " 1.0  0.0819643    0.11108    \n",
       " 1.0  0.000175463  0.000982736\n",
       " 1.0  0.00153822   0.001875   \n",
       " ⋮                            \n",
       " 1.0  0.210153     0.000980181\n",
       " 1.0  0.0100436    0.000601615\n",
       " 1.0  0.00827426   0.00026977 \n",
       " 1.0  0.729499     1.10951    \n",
       " 1.0  0.00165461   0.0214866  \n",
       " 1.0  0.0113141    0.00130528 \n",
       " 1.0  0.0117503    0.000249642\n",
       " 1.0  0.000353334  0.0083478  \n",
       " 1.0  0.030626     0.000289506\n",
       " 1.0  0.0183706    0.0690372  \n",
       " 1.0  0.00808898   0.00120171 \n",
       " 1.0  0.000559854  0.190844   "
      ]
     },
     "execution_count": 110,
     "metadata": {},
     "output_type": "execute_result"
    }
   ],
   "source": [
    "T₁ = collect(test[:,:Critic_Score])\n",
    "T₂ = collect(test[:,:Critic_Count])\n",
    "T₃ = collect(test[:,:User_Score])\n",
    "T₄ = collect(test[:,:User_Count])\n",
    "\n",
    "T₅ = collect(test[:,:Other_Sales])\n",
    "T₆ = collect(test[:,:JP_Sales])\n",
    "\n",
    "T₇ = collect(test[:,:Rating])\n",
    "\n",
    "T₈ = collect(test[:,:Genre])\n",
    "\n",
    "k = length(T₁)\n",
    "Ttotal = hcat(ones(k),T₅,T₆)\n",
    "\n"
   ]
  },
  {
   "cell_type": "code",
   "execution_count": 111,
   "metadata": {},
   "outputs": [
    {
     "data": {
      "text/plain": [
       "2490×7 Array{Union{Missing, Float64},2}:\n",
       " 1.0  0.00025736   0.000520983  24.0  11.0  3.7   10.0\n",
       " 1.0  0.0204632    0.000966418  72.0  35.0  7.7   27.0\n",
       " 1.0  0.0489383    0.259834     69.0  26.0  7.0  157.0\n",
       " 1.0  0.00826891   0.00088793   81.0  20.0  8.7   43.0\n",
       " 1.0  0.0388025    0.000439246  63.0  68.0  7.2  201.0\n",
       " 1.0  0.00016853   0.001625     69.0  26.0  7.0  157.0\n",
       " 1.0  0.00805139   1.11841      59.0  20.0  7.7    6.0\n",
       " 1.0  0.0309118    0.000595432  76.0  44.0  8.6   14.0\n",
       " 1.0  0.00120239   0.0413245    69.0  26.0  7.0  157.0\n",
       " 1.0  0.0514995    0.00108301   69.0  26.0  7.0  157.0\n",
       " 1.0  0.0819643    0.11108      93.0  45.0  9.1  135.0\n",
       " 1.0  0.000175463  0.000982736  80.0  10.0  7.5    4.0\n",
       " 1.0  0.00153822   0.001875     73.0  27.0  7.7   20.0\n",
       " ⋮                                          ⋮         \n",
       " 1.0  0.210153     0.000980181  86.0  37.0  6.7  228.0\n",
       " 1.0  0.0100436    0.000601615  69.0  26.0  7.0  157.0\n",
       " 1.0  0.00827426   0.00026977   47.0  11.0  7.0    5.0\n",
       " 1.0  0.729499     1.10951      91.0   8.0  9.0  266.0\n",
       " 1.0  0.00165461   0.0214866    69.0  26.0  7.0  157.0\n",
       " 1.0  0.0113141    0.00130528   69.0  26.0  7.0  157.0\n",
       " 1.0  0.0117503    0.000249642  77.0  22.0  8.4    9.0\n",
       " 1.0  0.000353334  0.0083478    69.0  26.0  7.0  157.0\n",
       " 1.0  0.030626     0.000289506  51.0  32.0  7.5   13.0\n",
       " 1.0  0.0183706    0.0690372    69.0  26.0  7.0  157.0\n",
       " 1.0  0.00808898   0.00120171   69.0  26.0  7.0  157.0\n",
       " 1.0  0.000559854  0.190844     69.0  26.0  7.0  157.0"
      ]
     },
     "execution_count": 111,
     "metadata": {},
     "output_type": "execute_result"
    }
   ],
   "source": [
    "\n",
    "##Critic score, User Score, Critic count, User Count pour les donnees de test\n",
    "for i in eachindex(T₁) \n",
    "    if ismissing(T₁[i]) || ismissing(T₂[i]) || ismissing(T₃[i]) || ismissing(T₄[i])\n",
    "        T₁[i]= moyenneCriticCount\n",
    "        T₂[i]= moyenneCriticScore\n",
    "        T₃[i]= moyenneUser_Score\n",
    "        T₄[i]= moyenneUser_Count\n",
    "    end\n",
    "end\n",
    "Ttotal = hcat(Ttotal,T₁,T₂,T₃,T₄)"
   ]
  },
  {
   "cell_type": "code",
   "execution_count": 112,
   "metadata": {},
   "outputs": [],
   "source": [
    "#Rating\n",
    "for i in eachindex(T₇) \n",
    "    if ismissing(T₇[i])\n",
    "        T₇[i] = \"missing\"\n",
    "    end\n",
    "end\n",
    "\n",
    "for i= 1:(length(ratings)-1)\n",
    "    categorie = ratings[i]\n",
    "    qualitative = zeros(k)\n",
    "    \n",
    "    ## on parcourt tous les element de la variable Rating\n",
    "    for j in eachindex(T₇) \n",
    "        if T₇[j] == categorie\n",
    "            qualitative[j] = 1\n",
    "        end\n",
    "    end\n",
    "    \n",
    "    Ttotal = hcat(Ttotal,qualitative)\n",
    "end\n"
   ]
  },
  {
   "cell_type": "code",
   "execution_count": 114,
   "metadata": {},
   "outputs": [
    {
     "data": {
      "text/plain": [
       "\"predictions.csv\""
      ]
     },
     "execution_count": 114,
     "metadata": {},
     "output_type": "execute_result"
    }
   ],
   "source": [
    "NA_Sales = Ttotal*β̂₁\n",
    "\n",
    "Global_Sales = Ttotal*β̂₂\n",
    "\n",
    "predictions = DataFrame(ID = test[:ID], NA_Sales = NA_Sales, Global_Sales = Global_Sales)\n",
    "CSV.write(\"predictions.csv\",predictions)"
   ]
  },
  {
   "cell_type": "code",
   "execution_count": null,
   "metadata": {},
   "outputs": [],
   "source": []
  },
  {
   "cell_type": "code",
   "execution_count": null,
   "metadata": {},
   "outputs": [],
   "source": []
  },
  {
   "cell_type": "code",
   "execution_count": null,
   "metadata": {},
   "outputs": [],
   "source": []
  }
 ],
 "metadata": {
  "kernelspec": {
   "display_name": "Julia nodeps 0.7.0",
   "language": "julia",
   "name": "julia-nodeps-0.7"
  },
  "language_info": {
   "file_extension": ".jl",
   "mimetype": "application/julia",
   "name": "julia",
   "version": "0.7.0"
  }
 },
 "nbformat": 4,
 "nbformat_minor": 2
}
