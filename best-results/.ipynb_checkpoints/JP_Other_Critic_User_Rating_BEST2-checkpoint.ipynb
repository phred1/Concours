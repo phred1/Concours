{
 "cells": [
  {
   "cell_type": "code",
   "execution_count": null,
   "metadata": {},
   "outputs": [],
   "source": [
    "using CSV, DataFrames, Gadfly, GLM, Distributions"
   ]
  },
  {
   "cell_type": "code",
   "execution_count": null,
   "metadata": {},
   "outputs": [],
   "source": [
    "train = CSV.read(\"train.csv\")\n",
    "size(train,1)"
   ]
  },
  {
   "cell_type": "code",
   "execution_count": null,
   "metadata": {},
   "outputs": [],
   "source": [
    "Y₁ = collect(train[:,:NA_Sales])\n",
    "Y₂ = collect(train[:,:Global_Sales])\n",
    "X₁ = collect(train[:,:Critic_Score])\n",
    "X₂ = collect(train[:,:Critic_Count])\n",
    "X₃ = collect(train[:,:User_Score])\n",
    "X₄ = collect(train[:,:User_Count])\n",
    "X₅ = collect(train[:,:Other_Sales])\n",
    "X₆ = collect(train[:,:JP_Sales])\n",
    "X₇ = collect(train[:,:Rating])\n",
    "X₈ = collect(train[:,:Genre])\n",
    "\n",
    "n = size(Y₁,1)\n",
    "Xtotal = hcat(ones(n),X₅,X₆)"
   ]
  },
  {
   "cell_type": "code",
   "execution_count": null,
   "metadata": {},
   "outputs": [],
   "source": [
    "\n",
    "##Critic score, User Score, Critic count, User Count \n",
    "moyenneCriticCount = floor(mean(collect(skipmissing(train[:,:Critic_Score]))))\n",
    "moyenneCriticScore =floor(mean(collect(skipmissing(train[:,:Critic_Count]))))\n",
    "moyenneUser_Score = floor(mean(collect(skipmissing(train[:,:User_Score]))))\n",
    "moyenneUser_Count = floor(mean(collect(skipmissing(train[:,:User_Count]))))\n",
    "\n",
    "\n",
    "for i in eachindex(X₁) \n",
    "    if ismissing(X₁[i]) || ismissing(X₂[i]) || ismissing(X₃[i]) || ismissing(X₄[i])\n",
    "        X₁[i]= moyenneCriticCount\n",
    "        X₂[i]= moyenneCriticScore\n",
    "        X₃[i]= moyenneUser_Score\n",
    "        X₄[i]= moyenneUser_Count\n",
    "    end\n",
    "end\n",
    "Xtotal = hcat(Xtotal,X₁,X₂,X₃,X₄)"
   ]
  },
  {
   "cell_type": "code",
   "execution_count": null,
   "metadata": {},
   "outputs": [],
   "source": [
    "#Rating\n",
    "for i in eachindex(X₇) \n",
    "    if ismissing(X₇[i])\n",
    "        X₇[i] = \"missing\"\n",
    "    end\n",
    "end\n",
    "\n",
    "ratingSet = Set(X₇) \n",
    "ratings = collect(ratingSet) \n",
    "\n",
    "## Comme on sait que les meilleurs variables explicatives sont le rating\n",
    "## E, M, missing et K-A, on retire tous les autres\n",
    "filter!(x->x≠\"EC\",ratings)\n",
    "filter!(x->x≠\"E10+\",ratings)\n",
    "filter!(x->x≠\"RP\",ratings)\n",
    "filter!(x->x≠\"T\",ratings)\n",
    "filter!(x->x≠\"AO\",ratings)\n",
    "##Contient toutes les variables qualitatives du rating\n",
    "# Xrating = Array{Int64}[14094]\n",
    "\n",
    "\n",
    "for i= 1:(length(ratings)-1)\n",
    "    categorie = ratings[i]\n",
    "    qualitative = zeros(n)\n",
    "    \n",
    "    ## on parcourt tous les element de la variable Rating\n",
    "    for j in eachindex(X₇) \n",
    "        if X₇[j] == categorie\n",
    "            qualitative[j] = 1\n",
    "        end\n",
    "    end\n",
    "    \n",
    "    Xtotal = hcat(Xtotal,qualitative)\n",
    "end\n",
    "\n",
    "Xtotal\n"
   ]
  },
  {
   "cell_type": "code",
   "execution_count": null,
   "metadata": {},
   "outputs": [],
   "source": [
    "# ## Genre\n",
    "\n",
    "\n",
    "# for i in eachindex(X₈) \n",
    "#     if ismissing(X₈[i])\n",
    "#         X₈[i] = \"missing\"\n",
    "#     end\n",
    "# end\n",
    "\n",
    "# genreSet = Set(X₈) \n",
    "# genres = collect(genreSet) \n",
    "\n",
    "# print(length(genres))\n",
    "# ##Contient toutes les variables qualitatives de genre\n",
    "# # Xgenre = Array{Float64}[]\n",
    "\n",
    "\n",
    "# for i= 1:(length(genres)-1)\n",
    "#     genre = genres[i]\n",
    "#     qualitative = zeros(n)\n",
    "    \n",
    "#     ## on parcourt tous les element de la variable Rating\n",
    "#     for j in eachindex(X₈) \n",
    "#         if X₈[j] == genre\n",
    "#             qualitative[j] = 1\n",
    "#         end\n",
    "#     end\n",
    "    \n",
    "#     Xtotal = hcat(Xtotal,qualitative)\n",
    "# end\n",
    "\n",
    "# # Xtotal = hcat(Xtotal,Xgenre)"
   ]
  },
  {
   "cell_type": "code",
   "execution_count": null,
   "metadata": {},
   "outputs": [],
   "source": [
    "p = size(Xtotal,2)-1\n",
    "Xtotal"
   ]
  },
  {
   "cell_type": "code",
   "execution_count": null,
   "metadata": {},
   "outputs": [],
   "source": [
    "β̂₁ = (Xtotal'Xtotal)\\Xtotal'Y₁\n",
    "\n",
    "β̂₂ = (Xtotal'Xtotal)\\Xtotal'Y₂"
   ]
  },
  {
   "cell_type": "code",
   "execution_count": null,
   "metadata": {},
   "outputs": [],
   "source": [
    "test = CSV.read(\"test.csv\")\n",
    "head(test)"
   ]
  },
  {
   "cell_type": "code",
   "execution_count": null,
   "metadata": {},
   "outputs": [],
   "source": [
    "T₁ = collect(test[:,:Critic_Score])\n",
    "T₂ = collect(test[:,:Critic_Count])\n",
    "T₃ = collect(test[:,:User_Score])\n",
    "T₄ = collect(test[:,:User_Count])\n",
    "\n",
    "T₅ = collect(test[:,:Other_Sales])\n",
    "T₆ = collect(test[:,:JP_Sales])\n",
    "\n",
    "T₇ = collect(test[:,:Rating])\n",
    "\n",
    "T₈ = collect(test[:,:Genre])\n",
    "\n",
    "k = length(T₁)\n",
    "Ttotal = hcat(ones(k),T₅,T₆)\n",
    "\n"
   ]
  },
  {
   "cell_type": "code",
   "execution_count": null,
   "metadata": {},
   "outputs": [],
   "source": [
    "\n",
    "##Critic score, User Score, Critic count, User Count pour les donnees de test\n",
    "for i in eachindex(T₁) \n",
    "    if ismissing(T₁[i]) || ismissing(T₂[i]) || ismissing(T₃[i]) || ismissing(T₄[i])\n",
    "        T₁[i]= moyenneCriticCount\n",
    "        T₂[i]= moyenneCriticScore\n",
    "        T₃[i]= moyenneUser_Score\n",
    "        T₄[i]= moyenneUser_Count\n",
    "    end\n",
    "end\n",
    "Ttotal = hcat(Ttotal,T₁,T₂,T₃,T₄)"
   ]
  },
  {
   "cell_type": "code",
   "execution_count": null,
   "metadata": {},
   "outputs": [],
   "source": [
    "#Rating\n",
    "for i in eachindex(T₇) \n",
    "    if ismissing(T₇[i])\n",
    "        T₇[i] = \"missing\"\n",
    "    end\n",
    "end\n",
    "\n",
    "for i= 1:(length(ratings)-1)\n",
    "    categorie = ratings[i]\n",
    "    qualitative = zeros(k)\n",
    "    \n",
    "    ## on parcourt tous les element de la variable Rating\n",
    "    for j in eachindex(T₇) \n",
    "        if T₇[j] == categorie\n",
    "            qualitative[j] = 1\n",
    "        end\n",
    "    end\n",
    "    \n",
    "    Ttotal = hcat(Ttotal,qualitative)\n",
    "end\n"
   ]
  },
  {
   "cell_type": "code",
   "execution_count": null,
   "metadata": {},
   "outputs": [],
   "source": [
    "NA_Sales = Ttotal*β̂₁\n",
    "\n",
    "Global_Sales = Ttotal*β̂₂\n",
    "println(NA_Sales)\n",
    "predictions = DataFrame(ID = test[:ID], NA_Sales = NA_Sales, Global_Sales = Global_Sales)\n",
    "CSV.write(\"predictions.csv\",predictions)"
   ]
  },
  {
   "cell_type": "code",
   "execution_count": null,
   "metadata": {},
   "outputs": [],
   "source": []
  },
  {
   "cell_type": "code",
   "execution_count": null,
   "metadata": {},
   "outputs": [],
   "source": []
  },
  {
   "cell_type": "code",
   "execution_count": null,
   "metadata": {},
   "outputs": [],
   "source": []
  }
 ],
 "metadata": {
  "kernelspec": {
   "display_name": "Julia nodeps 0.7.0",
   "language": "julia",
   "name": "julia-nodeps-0.7"
  },
  "language_info": {
   "file_extension": ".jl",
   "mimetype": "application/julia",
   "name": "julia",
   "version": "0.7.0"
  }
 },
 "nbformat": 4,
 "nbformat_minor": 2
}
