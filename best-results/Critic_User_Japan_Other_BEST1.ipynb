{
 "cells": [
  {
   "cell_type": "code",
   "execution_count": 1,
   "metadata": {},
   "outputs": [
    {
     "name": "stderr",
     "output_type": "stream",
     "text": [
      "┌ Info: Loading DataFrames support into Gadfly.jl\n",
      "└ @ Gadfly /Users/philippereddy/.julia/packages/Gadfly/ew1SM/src/mapping.jl:228\n"
     ]
    }
   ],
   "source": [
    "using CSV, DataFrames, Gadfly, GLM, Distributions"
   ]
  },
  {
   "cell_type": "code",
   "execution_count": 2,
   "metadata": {},
   "outputs": [
    {
     "data": {
      "text/plain": [
       "14094"
      ]
     },
     "execution_count": 2,
     "metadata": {},
     "output_type": "execute_result"
    }
   ],
   "source": [
    "train = CSV.read(\"train.csv\")\n",
    "size(train,1)"
   ]
  },
  {
   "cell_type": "code",
   "execution_count": 3,
   "metadata": {},
   "outputs": [
    {
     "name": "stdout",
     "output_type": "stream",
     "text": [
      "69.0\n",
      "26.0\n",
      "7.0\n",
      "157.0\n",
      "14094\n"
     ]
    },
    {
     "data": {
      "text/plain": [
       "6"
      ]
     },
     "execution_count": 3,
     "metadata": {},
     "output_type": "execute_result"
    }
   ],
   "source": [
    "Y₁ = collect(train[:,:NA_Sales])\n",
    "Y₂ = collect(train[:,:Global_Sales])\n",
    "X₁ = collect(train[:,:Critic_Score])\n",
    "X₂ = collect(train[:,:Critic_Count])\n",
    "X₃ = collect(train[:,:User_Score])\n",
    "X₄ = collect(train[:,:User_Count])\n",
    "X₅ = collect(train[:,:Other_Sales])\n",
    "X₆ = collect(train[:,:JP_Sales])\n",
    "\n",
    "moyenneCriticCount = floor(mean(collect(skipmissing(train[:,:Critic_Score]))))\n",
    "moyenneCriticScore =floor(mean(collect(skipmissing(train[:,:Critic_Count]))))\n",
    "moyenneUser_Score = floor(mean(collect(skipmissing(train[:,:User_Score]))))\n",
    "moyenneUser_Count = floor(mean(collect(skipmissing(train[:,:User_Count]))))\n",
    "\n",
    "println(moyenneCriticCount)\n",
    "println(moyenneCriticScore)\n",
    "println(moyenneUser_Score)\n",
    "println(moyenneUser_Count)\n",
    "\n",
    "for i in eachindex(X₁) \n",
    "    if ismissing(X₁[i]) || ismissing(X₂[i]) || ismissing(X₃[i]) || ismissing(X₄[i])\n",
    "        X₁[i]= moyenneCriticCount\n",
    "        X₂[i]= moyenneCriticScore\n",
    "        X₃[i]= moyenneUser_Score\n",
    "        X₄[i]= moyenneUser_Count\n",
    "    end\n",
    "end\n",
    "\n",
    "\n",
    "n = size(Y₁,1)\n",
    "\n",
    "\n",
    "X1 = hcat(ones(n),X₁,X₂,X₃,X₄,X₅,X₆)\n",
    "println(n)\n",
    "\n",
    "X2 = hcat(ones(n),X₁,X₂,X₃,X₄,X₅,X₆)\n",
    "p1 = size(X1,2)-1\n",
    "p2 = size(X2,2)-1"
   ]
  },
  {
   "cell_type": "code",
   "execution_count": null,
   "metadata": {},
   "outputs": [],
   "source": [
    "# Création d'un dataframe pour conserver les R² de tous les modèles\n",
    "df = DataFrame(Critic_Score = Int64[], Critic_Count = Int64[], User_Score = Int64[], User_Count = Int64[], Other_Sales = Int64[], JP_Sales = Int64[], R2aj = Float64[], R2prev = Float64[])\n",
    "\n",
    "# Variabilité totale\n",
    "SST = sum((Y₁ .- mean(Y₁)).^2)\n",
    "for i=0:1\n",
    "    for j=0:1\n",
    "        for k=0:1\n",
    "            for m=0:1\n",
    "                for l=0:1\n",
    "                    for r=0:1\n",
    "            \n",
    "            # Construction de la matrice des variables explicatives\n",
    "            X = ones(n,1)\n",
    "            if i==1\n",
    "                X = hcat(X,X₁)\n",
    "            end\n",
    "            if j==1\n",
    "               X = hcat(X,X₂)\n",
    "            end\n",
    "                \n",
    "            if k==1\n",
    "               X = hcat(X,X₃)\n",
    "            end\n",
    "                \n",
    "            if m==1\n",
    "               X = hcat(X,X₄)\n",
    "            end\n",
    "            \n",
    "            if l==1\n",
    "               X = hcat(X,X₅)\n",
    "            end\n",
    "                        \n",
    "            if r==1\n",
    "               X = hcat(X,X₆)\n",
    "            end\n",
    "                        \n",
    "            # estimation des paramètres\n",
    "            β̂ = (X'*X)\\X'*Y₁\n",
    "            # Calculs des résidus\n",
    "            e = Y₁ .- X*β̂\n",
    "            # Calcul de la matrice H pour la validation croisée\n",
    "            H = X/(X'*X)*X'\n",
    "            # Calcul des erreurs de validation croisée\n",
    "            ẽ = e./(1 .- diag(H))\n",
    "            # Calcul du coefficient de détermination de prévision\n",
    "            R̃² = 1-sum(ẽ.^2)/ SST\n",
    "            \n",
    "            # Calcul du coefficient de détermination ajusté\n",
    "            p = size(X,2)-1\n",
    "            SSE = sum(e.^2)\n",
    "            R² =  1 - SSE/SST * (n-1)/(n-p)\n",
    "            \n",
    "            # Stocker les résultats dans le dataframe\n",
    "            push!(df,[i j k m l r R² R̃²])\n",
    "                        \n",
    "                    end\n",
    "                end\n",
    "            end\n",
    "        end\n",
    "    end\n",
    "end\n",
    "\n",
    "tail(df)"
   ]
  },
  {
   "cell_type": "code",
   "execution_count": null,
   "metadata": {},
   "outputs": [],
   "source": [
    "# Création d'un dataframe pour conserver les R² de tous les modèles\n",
    "df = DataFrame(Critic_Score = Int64[], Critic_Count = Int64[], User_Score = Int64[], User_Count = Int64[], Other_Sales = Int64[], JP_Sales = Int64[], R2aj = Float64[], R2prev = Float64[])\n",
    "\n",
    "# Variabilité totale\n",
    "SST = sum((Y₂.- mean(Y₂)).^2)\n",
    "for i=0:1\n",
    "    for j=0:1\n",
    "        for k=0:1\n",
    "            for m=0:1\n",
    "                for l=0:1\n",
    "                    for r=0:1\n",
    "            \n",
    "            # Construction de la matrice des variables explicatives\n",
    "            X = ones(n,1)\n",
    "            if i==1\n",
    "                X = hcat(X,X₁)\n",
    "            end\n",
    "            if j==1\n",
    "               X = hcat(X,X₂)\n",
    "            end\n",
    "                \n",
    "            if k==1\n",
    "               X = hcat(X,X₃)\n",
    "            end\n",
    "                \n",
    "            if m==1\n",
    "               X = hcat(X,X₄)\n",
    "            end\n",
    "            \n",
    "            if l==1\n",
    "               X = hcat(X,X₅)\n",
    "            end\n",
    "                        \n",
    "            if r==1\n",
    "               X = hcat(X,X₆)\n",
    "            end\n",
    "                        \n",
    "            # estimation des paramètres\n",
    "            β̂ = (X'*X)\\X'*Y₂\n",
    "            # Calculs des résidus\n",
    "            e = Y₂ .- X*β̂\n",
    "            # Calcul de la matrice H pour la validation croisée\n",
    "            H = X/(X'*X)*X'\n",
    "            # Calcul des erreurs de validation croisée\n",
    "            ẽ = e./(1 .- diag(H))\n",
    "            # Calcul du coefficient de détermination de prévision\n",
    "            R̃² = 1-sum(ẽ.^2)/ SST\n",
    "            \n",
    "            # Calcul du coefficient de détermination ajusté\n",
    "            p = size(X,2)-1\n",
    "            SSE = sum(e.^2)\n",
    "            R² =  1 - SSE/SST * (n-1)/(n-p)\n",
    "            \n",
    "            # Stocker les résultats dans le dataframe\n",
    "            push!(df,[i j k m l r R² R̃²])\n",
    "                        \n",
    "                    end\n",
    "                end\n",
    "            end\n",
    "        end\n",
    "    end\n",
    "end\n",
    "\n",
    "tail(df)"
   ]
  },
  {
   "cell_type": "code",
   "execution_count": null,
   "metadata": {},
   "outputs": [],
   "source": [
    "β̂₁ = (X1'X1)\\X1'Y₁\n",
    "\n",
    "β̂₂ = (X2'X2)\\X2'Y₂"
   ]
  },
  {
   "cell_type": "code",
   "execution_count": null,
   "metadata": {},
   "outputs": [],
   "source": [
    "test = CSV.read(\"test.csv\")\n",
    "head(test)"
   ]
  },
  {
   "cell_type": "code",
   "execution_count": null,
   "metadata": {},
   "outputs": [],
   "source": [
    "T₁ = collect(test[:,:Critic_Score])\n",
    "T₂ = collect(test[:,:Critic_Count])\n",
    "T₃ = collect(test[:,:User_Score])\n",
    "T₄ = collect(test[:,:User_Count])\n",
    "T₅ = collect(test[:,:Other_Sales])\n",
    "T₆ = collect(test[:,:JP_Sales])\n",
    "\n",
    "moyenneCriticCount = floor(mean(collect(skipmissing(test[:,:Critic_Score]))))\n",
    "moyenneCriticScore =floor(mean(collect(skipmissing(test[:,:Critic_Count]))))\n",
    "moyenneUser_Score = floor(mean(collect(skipmissing(test[:,:User_Score]))))\n",
    "moyenneUser_Count = floor(mean(collect(skipmissing(test[:,:User_Count]))))\n",
    "\n",
    "for i in eachindex(T₃)  \n",
    "    if ismissing(T₁[i]) || ismissing(T₂[i]) || ismissing(T₃[i]) || ismissing(T₄[i])\n",
    "        T₁[i]= moyenneCriticCount\n",
    "        T₂[i]= moyenneCriticScore\n",
    "        T₃[i]= moyenneUser_Score\n",
    "        T₄[i]= moyenneUser_Count\n",
    "    end\n",
    "end\n",
    "\n",
    "n = length(T₁)\n",
    "T1 = hcat(ones(n),T₁,T₂,T₃,T₄,T₅,T₆)\n",
    "\n",
    "NA_Sales = T1*β̂₁\n",
    "\n",
    "Global_Sales = T1*β̂₂\n",
    "\n",
    "predictions = DataFrame(ID = test[:ID], NA_Sales = NA_Sales, Global_Sales = Global_Sales)\n",
    "CSV.write(\"predictions.csv\",predictions)"
   ]
  }
 ],
 "metadata": {
  "kernelspec": {
   "display_name": "Julia nodeps 0.7.0",
   "language": "julia",
   "name": "julia-nodeps-0.7"
  },
  "language_info": {
   "file_extension": ".jl",
   "mimetype": "application/julia",
   "name": "julia",
   "version": "0.7.0"
  }
 },
 "nbformat": 4,
 "nbformat_minor": 2
}
